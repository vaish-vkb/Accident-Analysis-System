{
 "cells": [
  {
   "cell_type": "code",
   "execution_count": 1,
   "id": "b0932a4d",
   "metadata": {},
   "outputs": [],
   "source": [
    "import pandas as pd\n",
    "import numpy as np\n",
    "import matplotlib.pyplot as plt"
   ]
  },
  {
   "cell_type": "code",
   "execution_count": 2,
   "id": "22925839",
   "metadata": {},
   "outputs": [],
   "source": [
    "import pyodbc"
   ]
  },
  {
   "cell_type": "code",
   "execution_count": 3,
   "id": "bd61a1fc",
   "metadata": {},
   "outputs": [
    {
     "name": "stdout",
     "output_type": "stream",
     "text": [
      "<mysql.connector.connection_cext.CMySQLConnection object at 0x0000020027A59550>\n"
     ]
    }
   ],
   "source": [
    "import mysql.connector\n",
    "\n",
    "conn = mysql.connector.connect(\n",
    "   host=\"localhost\",\n",
    "   user=\"root\",\n",
    "   passwd=\"vaishuvkb24\",\n",
    "    db='accidentsanalyse'\n",
    ")\n",
    "\n",
    "print(conn)\n",
    "\n",
    "import pandas as pd\n",
    "df=pd.read_sql_query(\"SELECT * FROM liable\",conn)\n"
   ]
  },
  {
   "cell_type": "code",
   "execution_count": 4,
   "id": "1a778045",
   "metadata": {},
   "outputs": [],
   "source": [
    "# df"
   ]
  },
  {
   "cell_type": "code",
   "execution_count": 5,
   "id": "0831773f",
   "metadata": {},
   "outputs": [],
   "source": [
    "q1=pd.read_sql_query(\"select v.brand,max(c.noofaccidents) from vehicletype v,casualty c where v.vehicleno=c.vehicleno group by v.brand having max(c.noofaccidents) >=ALL(select max(c.noofaccidents) from casualty c,vehicletype v group by v.brand)\",conn)"
   ]
  },
  {
   "cell_type": "code",
   "execution_count": 6,
   "id": "e6c0b560",
   "metadata": {},
   "outputs": [
    {
     "data": {
      "text/html": [
       "<div>\n",
       "<style scoped>\n",
       "    .dataframe tbody tr th:only-of-type {\n",
       "        vertical-align: middle;\n",
       "    }\n",
       "\n",
       "    .dataframe tbody tr th {\n",
       "        vertical-align: top;\n",
       "    }\n",
       "\n",
       "    .dataframe thead th {\n",
       "        text-align: right;\n",
       "    }\n",
       "</style>\n",
       "<table border=\"1\" class=\"dataframe\">\n",
       "  <thead>\n",
       "    <tr style=\"text-align: right;\">\n",
       "      <th></th>\n",
       "      <th>brand</th>\n",
       "      <th>max(c.noofaccidents)</th>\n",
       "    </tr>\n",
       "  </thead>\n",
       "  <tbody>\n",
       "    <tr>\n",
       "      <th>0</th>\n",
       "      <td>swift</td>\n",
       "      <td>27</td>\n",
       "    </tr>\n",
       "  </tbody>\n",
       "</table>\n",
       "</div>"
      ],
      "text/plain": [
       "   brand  max(c.noofaccidents)\n",
       "0  swift                    27"
      ]
     },
     "execution_count": 6,
     "metadata": {},
     "output_type": "execute_result"
    }
   ],
   "source": [
    "q1"
   ]
  },
  {
   "cell_type": "code",
   "execution_count": 8,
   "id": "4795b419",
   "metadata": {},
   "outputs": [],
   "source": [
    "import tkinter  as tk \n",
    "from tkinter import * "
   ]
  },
  {
   "cell_type": "code",
   "execution_count": 10,
   "id": "04a01703",
   "metadata": {},
   "outputs": [],
   "source": [
    "q2a=pd.read_sql_query(\"select sum(c.noofaccidents) as accidents_by_female from liable l, casualty c,vehicletype v where l.licenseno=v.licenseno and c.vehicleno=v.vehicleno and l.sex='F'\",conn)"
   ]
  },
  {
   "cell_type": "code",
   "execution_count": 11,
   "id": "d61d044d",
   "metadata": {
    "scrolled": true
   },
   "outputs": [
    {
     "data": {
      "text/html": [
       "<div>\n",
       "<style scoped>\n",
       "    .dataframe tbody tr th:only-of-type {\n",
       "        vertical-align: middle;\n",
       "    }\n",
       "\n",
       "    .dataframe tbody tr th {\n",
       "        vertical-align: top;\n",
       "    }\n",
       "\n",
       "    .dataframe thead th {\n",
       "        text-align: right;\n",
       "    }\n",
       "</style>\n",
       "<table border=\"1\" class=\"dataframe\">\n",
       "  <thead>\n",
       "    <tr style=\"text-align: right;\">\n",
       "      <th></th>\n",
       "      <th>accidents_by_female</th>\n",
       "    </tr>\n",
       "  </thead>\n",
       "  <tbody>\n",
       "    <tr>\n",
       "      <th>0</th>\n",
       "      <td>60.0</td>\n",
       "    </tr>\n",
       "  </tbody>\n",
       "</table>\n",
       "</div>"
      ],
      "text/plain": [
       "   accidents_by_female\n",
       "0                 60.0"
      ]
     },
     "execution_count": 11,
     "metadata": {},
     "output_type": "execute_result"
    }
   ],
   "source": [
    "q2a"
   ]
  },
  {
   "cell_type": "code",
   "execution_count": 12,
   "id": "80291b48",
   "metadata": {},
   "outputs": [],
   "source": [
    "q2b=pd.read_sql_query(\"select sum(c.noofaccidents) as accidents_by_male from liable l, casualty c,vehicletype v where l.licenseno=v.licenseno and c.vehicleno=v.vehicleno and l.sex='M'\",conn)"
   ]
  },
  {
   "cell_type": "code",
   "execution_count": 13,
   "id": "0ecb4d93",
   "metadata": {},
   "outputs": [
    {
     "data": {
      "text/html": [
       "<div>\n",
       "<style scoped>\n",
       "    .dataframe tbody tr th:only-of-type {\n",
       "        vertical-align: middle;\n",
       "    }\n",
       "\n",
       "    .dataframe tbody tr th {\n",
       "        vertical-align: top;\n",
       "    }\n",
       "\n",
       "    .dataframe thead th {\n",
       "        text-align: right;\n",
       "    }\n",
       "</style>\n",
       "<table border=\"1\" class=\"dataframe\">\n",
       "  <thead>\n",
       "    <tr style=\"text-align: right;\">\n",
       "      <th></th>\n",
       "      <th>accidents_by_male</th>\n",
       "    </tr>\n",
       "  </thead>\n",
       "  <tbody>\n",
       "    <tr>\n",
       "      <th>0</th>\n",
       "      <td>134.0</td>\n",
       "    </tr>\n",
       "  </tbody>\n",
       "</table>\n",
       "</div>"
      ],
      "text/plain": [
       "   accidents_by_male\n",
       "0              134.0"
      ]
     },
     "execution_count": 13,
     "metadata": {},
     "output_type": "execute_result"
    }
   ],
   "source": [
    "q2b"
   ]
  },
  {
   "cell_type": "code",
   "execution_count": 14,
   "id": "3419956f",
   "metadata": {},
   "outputs": [],
   "source": [
    "accidents_by_sex = pd.concat([q2a, q2b], axis=1)"
   ]
  },
  {
   "cell_type": "code",
   "execution_count": 15,
   "id": "5edbb7ff",
   "metadata": {},
   "outputs": [
    {
     "data": {
      "text/html": [
       "<div>\n",
       "<style scoped>\n",
       "    .dataframe tbody tr th:only-of-type {\n",
       "        vertical-align: middle;\n",
       "    }\n",
       "\n",
       "    .dataframe tbody tr th {\n",
       "        vertical-align: top;\n",
       "    }\n",
       "\n",
       "    .dataframe thead th {\n",
       "        text-align: right;\n",
       "    }\n",
       "</style>\n",
       "<table border=\"1\" class=\"dataframe\">\n",
       "  <thead>\n",
       "    <tr style=\"text-align: right;\">\n",
       "      <th></th>\n",
       "      <th>accidents_by_female</th>\n",
       "      <th>accidents_by_male</th>\n",
       "    </tr>\n",
       "  </thead>\n",
       "  <tbody>\n",
       "    <tr>\n",
       "      <th>0</th>\n",
       "      <td>60.0</td>\n",
       "      <td>134.0</td>\n",
       "    </tr>\n",
       "  </tbody>\n",
       "</table>\n",
       "</div>"
      ],
      "text/plain": [
       "   accidents_by_female  accidents_by_male\n",
       "0                 60.0              134.0"
      ]
     },
     "execution_count": 15,
     "metadata": {},
     "output_type": "execute_result"
    }
   ],
   "source": [
    "accidents_by_sex"
   ]
  },
  {
   "cell_type": "code",
   "execution_count": 18,
   "id": "2b89ac13",
   "metadata": {},
   "outputs": [],
   "source": [
    "q3=pd.read_sql_query(\"select a.streetname,COUNT(c.noofaccidents) AS NO_OF_ACCIDENTS from casualty c,area a where c.vehicleno=a.vehicleno group by a.streetname\",conn)"
   ]
  },
  {
   "cell_type": "code",
   "execution_count": 19,
   "id": "5de98026",
   "metadata": {},
   "outputs": [
    {
     "data": {
      "text/html": [
       "<div>\n",
       "<style scoped>\n",
       "    .dataframe tbody tr th:only-of-type {\n",
       "        vertical-align: middle;\n",
       "    }\n",
       "\n",
       "    .dataframe tbody tr th {\n",
       "        vertical-align: top;\n",
       "    }\n",
       "\n",
       "    .dataframe thead th {\n",
       "        text-align: right;\n",
       "    }\n",
       "</style>\n",
       "<table border=\"1\" class=\"dataframe\">\n",
       "  <thead>\n",
       "    <tr style=\"text-align: right;\">\n",
       "      <th></th>\n",
       "      <th>streetname</th>\n",
       "      <th>NO_OF_ACCIDENTS</th>\n",
       "    </tr>\n",
       "  </thead>\n",
       "  <tbody>\n",
       "    <tr>\n",
       "      <th>0</th>\n",
       "      <td>mg road</td>\n",
       "      <td>3</td>\n",
       "    </tr>\n",
       "    <tr>\n",
       "      <th>1</th>\n",
       "      <td>panvel</td>\n",
       "      <td>6</td>\n",
       "    </tr>\n",
       "    <tr>\n",
       "      <th>2</th>\n",
       "      <td>church street</td>\n",
       "      <td>6</td>\n",
       "    </tr>\n",
       "  </tbody>\n",
       "</table>\n",
       "</div>"
      ],
      "text/plain": [
       "      streetname  NO_OF_ACCIDENTS\n",
       "0        mg road                3\n",
       "1         panvel                6\n",
       "2  church street                6"
      ]
     },
     "execution_count": 19,
     "metadata": {},
     "output_type": "execute_result"
    }
   ],
   "source": [
    "q3"
   ]
  },
  {
   "cell_type": "code",
   "execution_count": 21,
   "id": "0ce70294",
   "metadata": {},
   "outputs": [],
   "source": [
    "q3a=pd.read_sql_query(\"select sum(c.noofaccidents) as accidents_by_youngadults from liable l, casualty c,vehicletype v where l.licenseno=v.licenseno and c.vehicleno=v.vehicleno and l.age between 18 and 30\",conn)"
   ]
  },
  {
   "cell_type": "code",
   "execution_count": 22,
   "id": "7cf7ce64",
   "metadata": {},
   "outputs": [
    {
     "data": {
      "text/html": [
       "<div>\n",
       "<style scoped>\n",
       "    .dataframe tbody tr th:only-of-type {\n",
       "        vertical-align: middle;\n",
       "    }\n",
       "\n",
       "    .dataframe tbody tr th {\n",
       "        vertical-align: top;\n",
       "    }\n",
       "\n",
       "    .dataframe thead th {\n",
       "        text-align: right;\n",
       "    }\n",
       "</style>\n",
       "<table border=\"1\" class=\"dataframe\">\n",
       "  <thead>\n",
       "    <tr style=\"text-align: right;\">\n",
       "      <th></th>\n",
       "      <th>accidents_by_youngadults</th>\n",
       "    </tr>\n",
       "  </thead>\n",
       "  <tbody>\n",
       "    <tr>\n",
       "      <th>0</th>\n",
       "      <td>103.0</td>\n",
       "    </tr>\n",
       "  </tbody>\n",
       "</table>\n",
       "</div>"
      ],
      "text/plain": [
       "   accidents_by_youngadults\n",
       "0                     103.0"
      ]
     },
     "execution_count": 22,
     "metadata": {},
     "output_type": "execute_result"
    }
   ],
   "source": [
    "q3a"
   ]
  },
  {
   "cell_type": "code",
   "execution_count": 23,
   "id": "e90d7301",
   "metadata": {},
   "outputs": [],
   "source": [
    "q3b=pd.read_sql_query(\"select sum(c.noofaccidents) as accidents_by_olderadults from liable l, casualty c,vehicletype v where l.licenseno=v.licenseno and c.vehicleno=v.vehicleno and l.age between 31 and 65\",conn)"
   ]
  },
  {
   "cell_type": "code",
   "execution_count": 24,
   "id": "d96bcdd2",
   "metadata": {},
   "outputs": [
    {
     "data": {
      "text/html": [
       "<div>\n",
       "<style scoped>\n",
       "    .dataframe tbody tr th:only-of-type {\n",
       "        vertical-align: middle;\n",
       "    }\n",
       "\n",
       "    .dataframe tbody tr th {\n",
       "        vertical-align: top;\n",
       "    }\n",
       "\n",
       "    .dataframe thead th {\n",
       "        text-align: right;\n",
       "    }\n",
       "</style>\n",
       "<table border=\"1\" class=\"dataframe\">\n",
       "  <thead>\n",
       "    <tr style=\"text-align: right;\">\n",
       "      <th></th>\n",
       "      <th>accidents_by_olderadults</th>\n",
       "    </tr>\n",
       "  </thead>\n",
       "  <tbody>\n",
       "    <tr>\n",
       "      <th>0</th>\n",
       "      <td>91.0</td>\n",
       "    </tr>\n",
       "  </tbody>\n",
       "</table>\n",
       "</div>"
      ],
      "text/plain": [
       "   accidents_by_olderadults\n",
       "0                      91.0"
      ]
     },
     "execution_count": 24,
     "metadata": {},
     "output_type": "execute_result"
    }
   ],
   "source": [
    "q3b"
   ]
  },
  {
   "cell_type": "code",
   "execution_count": null,
   "id": "f24fc952",
   "metadata": {},
   "outputs": [],
   "source": [
    "import tkinter as tk\n",
    "import numpy as np\n",
    "import pandas as pd\n",
    "import matplotlib.pyplot as plt\n",
    "from matplotlib.backends.backend_tkagg import FigureCanvasTkAgg\n",
    "from matplotlib.figure import Figure\n",
    "import random\n",
    "import time\n",
    "\n",
    "global main\n",
    "root=Tk()\n",
    "root.title(\"Accident Analysis System\")\n",
    "root.configure(background='black')\n",
    "# Set the size of the window\n",
    "root.geometry(\"700x350\")\n",
    "localtime=time.asctime(time.localtime(time.time()))\n",
    "lblinfo = Label(root, font=( 'aria' ,30, 'bold' ),text=\"Accident Analysis System\",fg=\"steel blue\",bg=\"black\",bd=10,anchor='w')\n",
    "lblinfo.pack()\n",
    "lblinfo = Label(root, font=( 'aria' ,20, ),text=localtime,fg=\"steel blue\",bg=\"black\",anchor=W)\n",
    "lblinfo.pack()\n",
    "\n",
    "def on_click(text):\n",
    "    entry.delete(0, END)\n",
    "    entry.insert(0,text)\n",
    "\n",
    "# Add an Entry widget\n",
    "entry=Entry(root, width= 25)\n",
    "entry.pack()\n",
    "\n",
    "# Add Buttons in the window\n",
    "b1=tk.Button(root, bd=10 ,fg=\"black\",font=('Times New Roman' ,8,'bold'), bg=\"powder blue\",text= \"BRAND WITH HIGHEST NUMBER OF ACCIDENTS?\", command=lambda:on_click(q1['brand'].values[0]))\n",
    "b1.pack()\n",
    "\n",
    "def query2():\n",
    "    data1 = {'Accidents_by_Sex': ['Male', 'Female'],\n",
    "             'Number_of_Accidents': [q2b['accidents_by_male'].values[0],q2a['accidents_by_female'].values[0]]\n",
    "             }\n",
    "    df1 = pd.DataFrame(data1)\n",
    "\n",
    "    figure1 = plt.Figure(figsize=(7,7), dpi=50)\n",
    "    ax1 = figure1.add_subplot(111)\n",
    "    bar1 = FigureCanvasTkAgg(figure1, root)\n",
    "    bar1.get_tk_widget().pack(side=tk.RIGHT, fill=tk.NONE)\n",
    "    df1 = df1[['Accidents_by_Sex', 'Number_of_Accidents']].groupby('Accidents_by_Sex').sum()\n",
    "    df1.plot(kind='bar', legend=True, ax=ax1,color=\"hotpink\")\n",
    "    ax1.set_title('Number of Accidents: Male vs Female')\n",
    "\n",
    "b2=tk.Button(root, bd=10 ,fg=\"black\",font=('Times New Roman' ,8,'bold'), bg=\"powder blue\",text= \"ACCIDENTS CLASSIFICATION BASED ON SEX?\", command=lambda:query2())\n",
    "b2.pack()\n",
    "\n",
    "def query4():\n",
    "    data1 = {'Accidents_by_Age': ['<=30', '>30'],\n",
    "             'Number_of_Accidents': [q3a['accidents_by_youngadults'].values[0],q3b['accidents_by_olderadults'].values[0]]\n",
    "             }\n",
    "    df1 = pd.DataFrame(data1)\n",
    "\n",
    "    figure1 = plt.Figure(figsize=(7,7), dpi=50)\n",
    "    ax1 = figure1.add_subplot(111)\n",
    "    bar1 = FigureCanvasTkAgg(figure1, root)\n",
    "    bar1.get_tk_widget().pack(side=tk.LEFT, fill=tk.NONE)\n",
    "    df1 = df1[['Accidents_by_Age', 'Number_of_Accidents']].groupby('Accidents_by_Age').sum()\n",
    "    df1.plot(kind='barh', legend=True, ax=ax1,color=\"hotpink\")\n",
    "    ax1.set_title('Number of Accidents: Age Group')\n",
    "\n",
    "b4=tk.Button(root, bd=10 ,fg=\"black\",font=('Times New Roman' ,8,'bold'), bg=\"powder blue\",text= \"ACCIDENT CLASSIFICATION BASED ON AGE?\", command=lambda:query4())\n",
    "b4.pack()\n",
    "\n",
    "def query3():\n",
    "    frameChartsLT = tk.Frame(root)\n",
    "    frameChartsLT.pack()\n",
    "\n",
    "    stockListExp = ['mg road','panvel','church street']\n",
    "    stockSplitExp = [q3.loc[0][1],q3.loc[1][1],q3.loc[1][1]]\n",
    "\n",
    "    fig = Figure(figsize=(4,4), dpi=50) # create a figure object\n",
    "    ax = fig.add_subplot(111) # add an Axes to the figure\n",
    "\n",
    "    ax.pie(stockSplitExp, radius=1, labels=stockListExp,autopct='%0.2f%%', shadow=True,)\n",
    "\n",
    "    chart1 = FigureCanvasTkAgg(fig,frameChartsLT)\n",
    "    chart1.get_tk_widget().pack()\n",
    "\n",
    "b3=tk.Button(root, bd=10 ,fg=\"black\",font=('Times New Roman' ,8,'bold'), bg=\"powder blue\",text= \"AREA WITH HIGHEST NUMBER OF ACCIDENTS??\", command=lambda:query3())\n",
    "b3.pack()\n",
    "\n",
    "root.mainloop()"
   ]
  }
 ],
 "metadata": {
  "kernelspec": {
   "display_name": "Python 3 (ipykernel)",
   "language": "python",
   "name": "python3"
  },
  "language_info": {
   "codemirror_mode": {
    "name": "ipython",
    "version": 3
   },
   "file_extension": ".py",
   "mimetype": "text/x-python",
   "name": "python",
   "nbconvert_exporter": "python",
   "pygments_lexer": "ipython3",
   "version": "3.9.7"
  }
 },
 "nbformat": 4,
 "nbformat_minor": 5
}
